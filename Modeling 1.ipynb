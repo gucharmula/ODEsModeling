{
  "metadata": {
    "kernelspec": {
      "name": "python",
      "display_name": "Python (Pyodide)",
      "language": "python"
    },
    "language_info": {
      "codemirror_mode": {
        "name": "python",
        "version": 3
      },
      "file_extension": ".py",
      "mimetype": "text/x-python",
      "name": "python",
      "nbconvert_exporter": "python",
      "pygments_lexer": "ipython3",
      "version": "3.8"
    }
  },
  "nbformat_minor": 4,
  "nbformat": 4,
  "cells": [
    {
      "cell_type": "code",
      "source": "import numpy as np\nimport pandas as pd\n\ne_exact = np.e\nn_vals = [2**k for k in range(10, 21)]\n\ndef euler_method(delta, N):\n    x = 1\n    for _ in range(N):\n        x += delta * x\n    return x\n\ndef midpoint_method(delta, N):\n    x = 1\n    for _ in range(N):\n        k_temp = x + (delta / 2) * x \n        x += delta * (k_temp)\n    return x\n\ndef rungekutta_method(delta, N):\n    x = 1\n    for _ in range(N):\n        k1 = x\n        k2 = x + (delta / 2) * k1\n        k3 = x + (delta / 2) * k2\n        k4 = x + delta * k3\n        x += (delta / 6) * (k1 + 2 * k2 + 2 * k3 + k4)\n    return x\n\neuler_results = []\nmidpoint_results = []\nrungekutta_results = []\n\nerror_euler = []\nerror_midpoint = []\nerror_rungekutta = []\n\nfor N in n_vals:\n    delta = 1 / N\n    \n    euler_x = euler_method(delta, N)\n    euler_results.append(euler_x)\n    error_euler.append(abs(euler_x - e_exact))\n    \n    midpoint_x = midpoint_method(delta, N)\n    midpoint_results.append(midpoint_x)\n    error_midpoint.append(abs(midpoint_x - e_exact))\n    \n    rungekutta_x = rungekutta_method(delta, N)\n    rungekutta_results.append(rungekutta_x)\n    error_rungekutta.append(abs(rungekutta_x - e_exact))\n\ndf_euler = pd.DataFrame({\n    'N': n_vals,\n    'Numerically Computed Value': euler_results,\n    'Absolute Error': error_euler,\n    'Percent Error': [str(100 * e / e_exact) + \"%\" for e in error_euler]\n})\n\ndf_midpoint = pd.DataFrame({\n    'N': n_vals,\n    'Numerically Computed Value': midpoint_results,\n    'Absolute Error': error_midpoint,\n    'Percent Error': [str(100 * e / e_exact) + \"%\" for e in error_midpoint]\n})\n\ndf_rungekutta = pd.DataFrame({\n    'N': n_vals,\n    'Numerically Computed Value': rungekutta_results,\n    'Absolute Error': error_rungekutta,\n    'Percent Error': [str(100 * e / e_exact) + \"%\" for e in error_rungekutta]\n})\n\ndf_euler.set_index('N', inplace = True)\ndf_midpoint.set_index('N', inplace = True)\ndf_rungekutta.set_index('N', inplace = True)\n\nprint(\"Euler's Method:\")\nprint(df_euler)\nprint(\"\\n\")\nprint(\"Midpoint Method:\")\nprint(df_midpoint)\nprint(\"\\n\")\nprint(\"Runge-Kutta Method:\")\nprint(df_rungekutta)",
      "metadata": {
        "trusted": true
      },
      "outputs": [
        {
          "name": "stdout",
          "text": "Euler's Method:\n         Numerically Computed Value  Absolute Error            Percent Error\nN                                                                           \n1024                       2.716956        0.001326     0.04878445563391519%\n2048                       2.717618        0.000663    0.024403140072547038%\n4096                       2.717950        0.000332    0.012204300006909884%\n8192                       2.718116        0.000166    0.006102832735026166%\n16384                      2.718199        0.000083    0.003051587080766401%\n32768                      2.718240        0.000041   0.0015258362227665173%\n65536                      2.718261        0.000021   0.0007629287803208693%\n131072                     2.718271        0.000010   0.0003814670612728633%\n262144                     2.718277        0.000005   0.0001907341975997245%\n524288                     2.718279        0.000003   9.536726958820918e-05%\n1048576                    2.718281        0.000001  4.7683673513100404e-05%\n\n\nMidpoint Method:\n         Numerically Computed Value  Absolute Error            Percent Error\nN                                                                           \n1024                       2.718281    4.317429e-07    1.58829338941518e-05%\n2048                       2.718282    1.079753e-07    3.97218810291725e-06%\n4096                       2.718282    2.699876e-08   9.932288620597543e-07%\n8192                       2.718282    6.750315e-09   2.483301936869263e-07%\n16384                      2.718282    1.687626e-09    6.20843087473851e-08%\n32768                      2.718282    4.219323e-10  1.5522020656048043e-08%\n65536                      2.718282    1.054659e-10   3.879872100261905e-09%\n131072                     2.718282    2.643086e-11     9.7233690877555e-10%\n262144                     2.718282    6.560086e-12  2.4133207010488475e-10%\n524288                     2.718282    1.751044e-12    6.44172997849689e-11%\n1048576                    2.718282    5.662137e-13  2.0829839519613323e-11%\n\n\nRunge-Kutta Method:\n         Numerically Computed Value  Absolute Error            Percent Error\nN                                                                           \n1024                       2.718282    1.953993e-14    7.18833677539597e-13%\n2048                       2.718282    3.552714e-15  1.3069703227992674e-13%\n4096                       2.718282    8.437695e-15    3.10405451664826e-13%\n8192                       2.718282    2.131628e-14   7.841821936795605e-13%\n16384                      2.718282    2.220446e-15   8.168564517495421e-14%\n32768                      2.718282    1.509903e-14   5.554623871896886e-13%\n65536                      2.718282    5.462297e-14  2.0094668713038736e-12%\n131072                     2.718282    5.595524e-14   2.058478258408846e-12%\n262144                     2.718282    2.886580e-14  1.0619133872744047e-12%\n524288                     2.718282    1.332268e-13   4.901138710497253e-12%\n1048576                    2.718282    1.167955e-13  4.2966649362025915e-12%\n",
          "output_type": "stream"
        }
      ],
      "execution_count": 27
    }
  ]
}